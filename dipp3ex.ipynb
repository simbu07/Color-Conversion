{
 "cells": [
  {
   "cell_type": "code",
   "execution_count": 2,
   "id": "400d5ab0-e7bc-4491-985c-706c44381a52",
   "metadata": {},
   "outputs": [],
   "source": [
    "import cv2\n",
    "sun_color_image = cv2.imread('cars.jpg')\n",
    "cv2.imshow('Original image', sun_color_image)\n",
    "hsv_image = cv2.cvtColor(sun_color_image, cv2.COLOR_BGR2HSV)\n",
    "cv2.imshow('BGR2HSV' ,hsv_image )\n",
    "gray_image1 = cv2.cvtColor (sun_color_image, cv2.COLOR_RGB2GRAY)\n",
    "cv2.imshow('RGB2GRAY', gray_image1)\n",
    "cv2.waitKey(0)\n",
    "cv2. destroyAllWindows()"
   ]
  },
  {
   "cell_type": "code",
   "execution_count": 3,
   "id": "47ef6e7a-84de-46f0-b0de-05b4731b3490",
   "metadata": {},
   "outputs": [],
   "source": [
    "import cv2\n",
    "sun_color_image = cv2.imread('cars.jpg')\n",
    "cv2.imshow('Original image', sun_color_image)\n",
    "hsv_image = cv2.cvtColor(sun_color_image, cv2.COLOR_HSV2RGB)\n",
    "cv2.imshow('HSV2RGB' ,hsv_image )\n",
    "gray_image1 = cv2.cvtColor (sun_color_image, cv2.COLOR_HSV2BGR)\n",
    "cv2.imshow('HSV2BGR', gray_image1)\n",
    "cv2.waitKey(0)\n",
    "cv2. destroyAllWindows()"
   ]
  },
  {
   "cell_type": "code",
   "execution_count": 4,
   "id": "def00f90-808a-42dd-8d6d-03bcd8537f92",
   "metadata": {},
   "outputs": [],
   "source": [
    "import cv2\n",
    "sun_color_image = cv2.imread('cars.jpg')\n",
    "cv2.imshow('Original image', sun_color_image)\n",
    "gray_image1 = cv2.cvtColor (sun_color_image, cv2.COLOR_RGB2YCrCb)\n",
    "cv2.imshow('RGB2YCrCb', gray_image1)\n",
    "gray_image1 = cv2.cvtColor (sun_color_image, cv2.COLOR_BGR2YCrCb)\n",
    "cv2.imshow('BGR2YCrCb', gray_image1)\n",
    "cv2.waitKey(0)\n",
    "cv2. destroyAllWindows()"
   ]
  },
  {
   "cell_type": "code",
   "execution_count": 5,
   "id": "6abc49d1-493e-4cdc-b2d6-dfbacbf366f0",
   "metadata": {},
   "outputs": [
    {
     "ename": "AttributeError",
     "evalue": "module 'cv2' has no attribute 'destoryAllWindows'",
     "output_type": "error",
     "traceback": [
      "\u001b[1;31m---------------------------------------------------------------------------\u001b[0m",
      "\u001b[1;31mAttributeError\u001b[0m                            Traceback (most recent call last)",
      "Cell \u001b[1;32mIn[5], line 12\u001b[0m\n\u001b[0;32m     10\u001b[0m cv2\u001b[38;5;241m.\u001b[39mimshow(\u001b[38;5;124m'\u001b[39m\u001b[38;5;124mMerged BGR Image\u001b[39m\u001b[38;5;124m'\u001b[39m,Merged_BGR)\n\u001b[0;32m     11\u001b[0m cv2\u001b[38;5;241m.\u001b[39mwaitKey(\u001b[38;5;241m0\u001b[39m)\n\u001b[1;32m---> 12\u001b[0m \u001b[43mcv2\u001b[49m\u001b[38;5;241;43m.\u001b[39;49m\u001b[43mdestoryAllWindows\u001b[49m()\n",
      "\u001b[1;31mAttributeError\u001b[0m: module 'cv2' has no attribute 'destoryAllWindows'"
     ]
    }
   ],
   "source": [
    "import cv2\n",
    "image = cv2.imread('cars.jpg')\n",
    "blue=image[:,:,0]\n",
    "green=image[:,:,1]\n",
    "red=image[:,:,2]\n",
    "cv2.imshow('B-Channel',blue)\n",
    "cv2.imshow('G-Channel',green)\n",
    "cv2.imshow('R-Channel',red)\n",
    "Merged_BGR=cv2.merge((blue,green,red))\n",
    "cv2.imshow('Merged BGR Image',Merged_BGR)\n",
    "cv2.waitKey(0)\n",
    "cv2.destoryAllWindows()"
   ]
  },
  {
   "cell_type": "code",
   "execution_count": 6,
   "id": "a6278075-dfc6-4aab-b3c2-71df5c74b7c8",
   "metadata": {},
   "outputs": [
    {
     "ename": "AttributeError",
     "evalue": "module 'cv2' has no attribute 'destoryAllWindows'",
     "output_type": "error",
     "traceback": [
      "\u001b[1;31m---------------------------------------------------------------------------\u001b[0m",
      "\u001b[1;31mAttributeError\u001b[0m                            Traceback (most recent call last)",
      "Cell \u001b[1;32mIn[6], line 11\u001b[0m\n\u001b[0;32m      9\u001b[0m cv2\u001b[38;5;241m.\u001b[39mimshow(\u001b[38;5;124m'\u001b[39m\u001b[38;5;124mMerged HSV Image\u001b[39m\u001b[38;5;124m'\u001b[39m,Merged_HSV)\n\u001b[0;32m     10\u001b[0m cv2\u001b[38;5;241m.\u001b[39mwaitKey(\u001b[38;5;241m0\u001b[39m)\n\u001b[1;32m---> 11\u001b[0m \u001b[43mcv2\u001b[49m\u001b[38;5;241;43m.\u001b[39;49m\u001b[43mdestoryAllWindows\u001b[49m()\n",
      "\u001b[1;31mAttributeError\u001b[0m: module 'cv2' has no attribute 'destoryAllWindows'"
     ]
    }
   ],
   "source": [
    "import cv2\n",
    "image = cv2.imread('cars.jpg')\n",
    "hsv = cv2.cvtColor(image, cv2.COLOR_BGR2HSV)\n",
    "h,s,v = cv2.split(hsv)\n",
    "cv2.imshow('Hue-Image',h)\n",
    "cv2.imshow('Saturation-Image',s)\n",
    "cv2.imshow('Gray-Image',v)\n",
    "Merged_HSV = cv2.merge((h,s,v))\n",
    "cv2.imshow('Merged HSV Image',Merged_HSV)\n",
    "cv2.waitKey(0)\n",
    "cv2.destoryAllWindows()"
   ]
  },
  {
   "cell_type": "code",
   "execution_count": null,
   "id": "4ee59197-1d5d-4713-b3d3-ac1d81b8f741",
   "metadata": {},
   "outputs": [],
   "source": []
  }
 ],
 "metadata": {
  "kernelspec": {
   "display_name": "Python 3 (ipykernel)",
   "language": "python",
   "name": "python3"
  },
  "language_info": {
   "codemirror_mode": {
    "name": "ipython",
    "version": 3
   },
   "file_extension": ".py",
   "mimetype": "text/x-python",
   "name": "python",
   "nbconvert_exporter": "python",
   "pygments_lexer": "ipython3",
   "version": "3.10.9"
  }
 },
 "nbformat": 4,
 "nbformat_minor": 5
}
